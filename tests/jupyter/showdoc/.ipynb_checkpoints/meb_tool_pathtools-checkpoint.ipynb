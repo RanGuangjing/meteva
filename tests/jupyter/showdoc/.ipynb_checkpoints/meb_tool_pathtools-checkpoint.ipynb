{
 "cells": [
  {
   "cell_type": "code",
   "execution_count": 1,
   "metadata": {},
   "outputs": [],
   "source": [
    "%matplotlib inline\n",
    "%load_ext autoreload\n",
    "%autoreload 2\n",
    "import meteva.base as meb\n",
    "import datetime"
   ]
  },
  {
   "cell_type": "markdown",
   "metadata": {},
   "source": [
    "# 生成文件路径\n",
    "**<font face=\"黑体\" color=blue size = 5>get_path(dir,time,dt = None)</font>**  \n",
    "通过路径的通配模型和时间、预报时效等参数自动生成文件路径  \n",
    "\n",
    "\n",
    "|参数|说明|    \n",
    "|:--|:--|  \n",
    "|**<font face=\"黑体\" color=blue size = 5>dir</font>**|文件名的通配模式，通配模式中YYYY，YY，MM，DD，HH,FF，TTT会分别对应成四位数年份，两位数年份，两位数的月、日、时，分和三位数的预报时效。* 号可以通配任意长度的字符串。 如果原文件名中已经包含了MM，DD等字样，则需要在通配模式中写成M>M,D>D等形式，避免被转换成时间字符。|   \n",
    "|**<font face=\"黑体\" color=blue size = 5>time</font>**|起报时间 | \n",
    "|**dt**| 时效|  \n",
    "|<font face=\"黑体\" color=blue size=5>return</font>| 字符串形式的路径，当采用* 号进行通配时，未匹配到相应的文件则会返回None |  \n",
    "**调用示例**\n",
    " "
   ]
  },
  {
   "cell_type": "markdown",
   "metadata": {},
   "source": [
    "例如在H:\\test_data\\input\\meb\\文件夹下有4个文件：   \n",
    "  2020011200.000.nc   \n",
    "  2020011200.003.nc   \n",
    "  globalECMWF_IT_2020011200_VT_2020011203_FH_003_AT_003.nc   \n",
    "  globalECMWF_IT_2020011200_VT_2020011203_FH_003_DD_003.nc   "
   ]
  },
  {
   "cell_type": "code",
   "execution_count": 2,
   "metadata": {},
   "outputs": [
    {
     "name": "stdout",
     "output_type": "stream",
     "text": [
      "H:\\test_data\\input\\meb\\2020011200.000.nc\n"
     ]
    }
   ],
   "source": [
    "time0 = datetime.datetime(2020,1,12,0,0)\n",
    "dir = r\"H:\\test_data\\input\\meb\\YYYYMMDDHH.TTT.nc\"   \n",
    "path = meb.get_path(dir,time0)\n",
    "print(path)"
   ]
  },
  {
   "cell_type": "code",
   "execution_count": 3,
   "metadata": {},
   "outputs": [
    {
     "name": "stdout",
     "output_type": "stream",
     "text": [
      "H:\\test_data\\input\\meb\\2020011200.003.nc\n"
     ]
    }
   ],
   "source": [
    "path = meb.get_path(dir,time0,3)\n",
    "print(path)"
   ]
  },
  {
   "cell_type": "code",
   "execution_count": 4,
   "metadata": {},
   "outputs": [
    {
     "name": "stdout",
     "output_type": "stream",
     "text": [
      "H:/test_data/input/meb/globalECMWF_IT_2020011200_VT_2020011203_FH_003_AT_003.nc\n"
     ]
    }
   ],
   "source": [
    "dir = r\"H:\\test_data\\input\\meb\\*YYYYMMDDHH*TTT*AT*\"\n",
    "path = meb.get_path(dir,time0,3)\n",
    "print(path)"
   ]
  },
  {
   "cell_type": "code",
   "execution_count": 5,
   "metadata": {},
   "outputs": [
    {
     "name": "stdout",
     "output_type": "stream",
     "text": [
      "H:/test_data/input/meb/globalECMWF_IT_2020011200_VT_2020011203_FH_003_DD_003.nc\n"
     ]
    }
   ],
   "source": [
    "dir = r\"H:\\test_data\\input\\meb\\*YYYYMMDDHH*TTT*D>D*\"\n",
    "path = meb.get_path(dir,time0,3)\n",
    "print(path)"
   ]
  },
  {
   "cell_type": "code",
   "execution_count": 6,
   "metadata": {},
   "outputs": [
    {
     "name": "stdout",
     "output_type": "stream",
     "text": [
      "None\n"
     ]
    }
   ],
   "source": [
    "dir = r\"H:\\test_data\\input\\meb\\*YYYYMMDDHH*TTT*DD*\"\n",
    "path = meb.get_path(dir,time0,3)\n",
    "print(path)"
   ]
  },
  {
   "cell_type": "markdown",
   "metadata": {},
   "source": [
    "# 根据文件路径创建文件夹   \n",
    "**<font face=\"黑体\" color=blue size = 5>creat_path(path)</font>**  \n",
    "根据文件名，判断相应的文件夹是否存在，如果不存在则生成逐级文件夹   \n",
    "\n",
    "\n",
    "|参数|说明|    \n",
    "|:--|:--|  \n",
    "|**<font face=\"黑体\" color=blue size = 5>path</font>**|完整的文件路径|   \n",
    "|<font face=\"黑体\" color=blue size=5>return</font>| None |  \n",
    "**调用示例**"
   ]
  },
  {
   "cell_type": "code",
   "execution_count": 7,
   "metadata": {},
   "outputs": [],
   "source": [
    "path = r\"H:\\test_data\\output\\meb\\path_tools\\a.txt\"\n",
    "meb.creat_path(path)"
   ]
  },
  {
   "cell_type": "markdown",
   "metadata": {},
   "source": [
    "#  获取目录下所有文件路径 \n",
    "**<font face=\"黑体\" color=blue size = 5>get_path_list_in_dir(root_dir,all_path = None)</font>**  \n",
    "采用递归法穷举文件夹下所有文件，包括子文件夹内的文件， 但是不包括子文件的路径     \n",
    "\n",
    "\n",
    "|参数|说明|    \n",
    "|:--|:--|  \n",
    "|**<font face=\"黑体\" color=blue size = 5>root_dir</font>**|文件夹完整路径  |   \n",
    "|<font face=\"黑体\" color=blue size=5>return</font>| 文件路径的列表 |  \n",
    "**调用示例**"
   ]
  },
  {
   "cell_type": "code",
   "execution_count": 8,
   "metadata": {},
   "outputs": [
    {
     "data": {
      "text/plain": [
       "['H:\\\\test_data\\\\input\\\\meb\\\\2020011200.000.nc',\n",
       " 'H:\\\\test_data\\\\input\\\\meb\\\\2020011200.000.new.nc',\n",
       " 'H:\\\\test_data\\\\input\\\\meb\\\\2020011200.000.resave.nc',\n",
       " 'H:\\\\test_data\\\\input\\\\meb\\\\2020011200.006.nc',\n",
       " 'H:\\\\test_data\\\\input\\\\meb\\\\ACHN.CREF000.20200610.114200.LATLON',\n",
       " 'H:\\\\test_data\\\\input\\\\meb\\\\ACHN.QREF000.20191201.000000.latlon.bz2',\n",
       " 'H:\\\\test_data\\\\input\\\\meb\\\\B13_20200229_2100_HMW8.AWX',\n",
       " 'H:\\\\test_data\\\\input\\\\meb\\\\binary.grd',\n",
       " 'H:\\\\test_data\\\\input\\\\meb\\\\copy_test\\\\19120108.000',\n",
       " 'H:\\\\test_data\\\\input\\\\meb\\\\copy_test\\\\19120108.003',\n",
       " 'H:\\\\test_data\\\\input\\\\meb\\\\copy_test\\\\19120108.006',\n",
       " 'H:\\\\test_data\\\\input\\\\meb\\\\copy_test\\\\19120108.009',\n",
       " 'H:\\\\test_data\\\\input\\\\meb\\\\copy_test\\\\19120108.012',\n",
       " 'H:\\\\test_data\\\\input\\\\meb\\\\copy_test\\\\19120108.015',\n",
       " 'H:\\\\test_data\\\\input\\\\meb\\\\copy_test\\\\19120108.018',\n",
       " 'H:\\\\test_data\\\\input\\\\meb\\\\copy_test\\\\19120108.021',\n",
       " 'H:\\\\test_data\\\\input\\\\meb\\\\copy_test\\\\19120108.024',\n",
       " 'H:\\\\test_data\\\\input\\\\meb\\\\copy_test\\\\19120108.027',\n",
       " 'H:\\\\test_data\\\\input\\\\meb\\\\copy_test\\\\19120108.030',\n",
       " 'H:\\\\test_data\\\\input\\\\meb\\\\copy_test\\\\19120108.033',\n",
       " 'H:\\\\test_data\\\\input\\\\meb\\\\copy_test\\\\19120108.036',\n",
       " 'H:\\\\test_data\\\\input\\\\meb\\\\copy_test\\\\19120108.039',\n",
       " 'H:\\\\test_data\\\\input\\\\meb\\\\copy_test\\\\19120108.042',\n",
       " 'H:\\\\test_data\\\\input\\\\meb\\\\copy_test\\\\19120108.045',\n",
       " 'H:\\\\test_data\\\\input\\\\meb\\\\copy_test\\\\19120108.048',\n",
       " 'H:\\\\test_data\\\\input\\\\meb\\\\copy_test\\\\19120108.051',\n",
       " 'H:\\\\test_data\\\\input\\\\meb\\\\copy_test\\\\19120108.054',\n",
       " 'H:\\\\test_data\\\\input\\\\meb\\\\copy_test\\\\19120108.057',\n",
       " 'H:\\\\test_data\\\\input\\\\meb\\\\copy_test\\\\19120108.060',\n",
       " 'H:\\\\test_data\\\\input\\\\meb\\\\copy_test\\\\19120108.063',\n",
       " 'H:\\\\test_data\\\\input\\\\meb\\\\copy_test\\\\19120108.066',\n",
       " 'H:\\\\test_data\\\\input\\\\meb\\\\copy_test\\\\19120108.069',\n",
       " 'H:\\\\test_data\\\\input\\\\meb\\\\copy_test\\\\19120108.072',\n",
       " 'H:\\\\test_data\\\\input\\\\meb\\\\EC_rain20070608.024.nc',\n",
       " 'H:\\\\test_data\\\\input\\\\meb\\\\era5-levels-members.grib',\n",
       " 'H:\\\\test_data\\\\input\\\\meb\\\\era5-levels-members.grib.90c91.idx',\n",
       " 'H:\\\\test_data\\\\input\\\\meb\\\\gds_stadata.000',\n",
       " 'H:\\\\test_data\\\\input\\\\meb\\\\globalECMWF_IT_2020011200_VT_2020011203_FH_003_AT_003.nc',\n",
       " 'H:\\\\test_data\\\\input\\\\meb\\\\globalECMWF_IT_2020011200_VT_2020011203_FH_003_DD_003.nc',\n",
       " 'H:\\\\test_data\\\\input\\\\meb\\\\m1.txt',\n",
       " 'H:\\\\test_data\\\\input\\\\meb\\\\m11.024',\n",
       " 'H:\\\\test_data\\\\input\\\\meb\\\\m2.024',\n",
       " 'H:\\\\test_data\\\\input\\\\meb\\\\m2.txt',\n",
       " 'H:\\\\test_data\\\\input\\\\meb\\\\m3.000',\n",
       " 'H:\\\\test_data\\\\input\\\\meb\\\\m3.h5',\n",
       " 'H:\\\\test_data\\\\input\\\\meb\\\\m3.txt',\n",
       " 'H:\\\\test_data\\\\input\\\\meb\\\\m4.txt',\n",
       " 'H:\\\\test_data\\\\input\\\\meb\\\\m41.txt',\n",
       " 'H:\\\\test_data\\\\input\\\\meb\\\\m8.txt',\n",
       " 'H:\\\\test_data\\\\input\\\\meb\\\\nc\\\\test.nc',\n",
       " 'H:\\\\test_data\\\\input\\\\meb\\\\nc\\\\test_isobaric.nc',\n",
       " 'H:\\\\test_data\\\\input\\\\meb\\\\nc\\\\test_surface2.nc',\n",
       " 'H:\\\\test_data\\\\input\\\\meb\\\\rain01.m3.txt',\n",
       " 'H:\\\\test_data\\\\input\\\\meb\\\\rain01.nc',\n",
       " 'H:\\\\test_data\\\\input\\\\meb\\\\read_stadata_from_csv_test.txt',\n",
       " 'H:\\\\test_data\\\\input\\\\meb\\\\read_stadata_from_csv_test2.txt',\n",
       " 'H:\\\\test_data\\\\input\\\\meb\\\\read_stadata_from_csv_test3.csv',\n",
       " 'H:\\\\test_data\\\\input\\\\meb\\\\sevp.txt',\n",
       " 'H:\\\\test_data\\\\input\\\\meb\\\\test.gds',\n",
       " 'H:\\\\test_data\\\\input\\\\meb\\\\test.grb.4cc40.idx',\n",
       " 'H:\\\\test_data\\\\input\\\\meb\\\\test.grb.90c91.idx',\n",
       " 'H:\\\\test_data\\\\input\\\\meb\\\\test.grib',\n",
       " 'H:\\\\test_data\\\\input\\\\meb\\\\test.grib.90c91.idx',\n",
       " 'H:\\\\test_data\\\\input\\\\meb\\\\test.nc',\n",
       " 'H:\\\\test_data\\\\input\\\\meb\\\\test_wind.gds',\n",
       " 'H:\\\\test_data\\\\input\\\\meb\\\\test_xy.nc',\n",
       " 'H:\\\\test_data\\\\input\\\\meb\\\\tp_part.nc',\n",
       " 'H:\\\\test_data\\\\input\\\\meb\\\\WRFPRS.GrbF03',\n",
       " 'H:\\\\test_data\\\\input\\\\meb\\\\WRFPRS_new.GrbF03',\n",
       " 'H:\\\\test_data\\\\input\\\\meb\\\\WRFPRS_new.GrbF03.90c91.idx',\n",
       " 'H:\\\\test_data\\\\input\\\\meb\\\\Z_SEVP_C_BFFZ_20200912080500_P_RFFC-SPCC-202009121200-16812.TXT']"
      ]
     },
     "execution_count": 8,
     "metadata": {},
     "output_type": "execute_result"
    }
   ],
   "source": [
    "root_dir = r\"H:\\test_data\\input\\meb\"\n",
    "meb.tool.path_tools.get_path_list_in_dir(root_dir)"
   ]
  },
  {
   "cell_type": "code",
   "execution_count": null,
   "metadata": {},
   "outputs": [],
   "source": []
  }
 ],
 "metadata": {
  "kernelspec": {
   "display_name": "Python 3",
   "language": "python",
   "name": "python3"
  },
  "language_info": {
   "codemirror_mode": {
    "name": "ipython",
    "version": 3
   },
   "file_extension": ".py",
   "mimetype": "text/x-python",
   "name": "python",
   "nbconvert_exporter": "python",
   "pygments_lexer": "ipython3",
   "version": "3.7.6"
  }
 },
 "nbformat": 4,
 "nbformat_minor": 2
}
