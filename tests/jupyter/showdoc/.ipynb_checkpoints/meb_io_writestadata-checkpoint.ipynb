{
 "cells": [
  {
   "cell_type": "code",
   "execution_count": 1,
   "metadata": {},
   "outputs": [],
   "source": [
    "%matplotlib inline\n",
    "%load_ext autoreload\n",
    "%autoreload 2\n",
    "import meteva.base as meb"
   ]
  },
  {
   "cell_type": "markdown",
   "metadata": {},
   "source": [
    "### 输出成micaps第3类文件\n",
    "**write_stadata_to_micaps3(sta,save_path = \"a.txt\",creat_dir = False, type = -1,effectiveNum = 4，show = False,title = None)**  \n",
    "将站点数据以micaps第3类格式输出\n",
    "\n",
    "**参数说明：**  \n",
    " **sta**: 站点数据      \n",
    " **save_path**: 文件输出路径，缺省值为\"a.txt\"   \n",
    " **creat_dir**: 当数据文件路径对应的文件夹不存在时是否新建相应的文件夹  \n",
    " **type**:  控制文件在micaps中的显示方式。当type = -1时， 若站点值为0.1-0.9时填一位小数，若站点值大于1时只填整数；当 type = -2时，若站点值小于1时不填，大于等于1时只填整数；当 type = -3 ,只填整数。  \n",
    " **effectiveNum**: 文件数据的有效位数，缺省值为4   \n",
    " **show**: 是否在屏幕上打印文件成功输出的信息  \n",
    " **title**: micaps文件头中文件描述内容，它将在micaps软件系统中显示，缺省时由系统自动根据文件路径生成  \n",
    " **return**: 成功输出返回True，失败就返回False \n",
    "\n",
    "\n",
    "**调用示例**"
   ]
  },
  {
   "cell_type": "code",
   "execution_count": 2,
   "metadata": {},
   "outputs": [
    {
     "data": {
      "text/plain": [
       "True"
      ]
     },
     "execution_count": 2,
     "metadata": {},
     "output_type": "execute_result"
    }
   ],
   "source": [
    "filename = r\"H:\\test_data\\input\\meb\\m1.txt\"\n",
    "sta = meb.read_stadata_from_micaps1_2_8(filename,meb.m1_element_column_dict[\"温度\"]) \n",
    "meb.write_stadata_to_micaps3(sta,r\"H:\\test_data\\output\\meb_new\\m3.txt\")"
   ]
  },
  {
   "cell_type": "code",
   "execution_count": 3,
   "metadata": {},
   "outputs": [
    {
     "name": "stdout",
     "output_type": "stream",
     "text": [
      "成功输出至H:\\test_data\\output\\meb_new\\m3.txt\n"
     ]
    },
    {
     "data": {
      "text/plain": [
       "True"
      ]
     },
     "execution_count": 3,
     "metadata": {},
     "output_type": "execute_result"
    }
   ],
   "source": [
    "meb.write_stadata_to_micaps3(sta,r\"H:\\test_data\\output\\meb_new\\m3.txt\",creat_dir = True,show = True)"
   ]
  },
  {
   "cell_type": "code",
   "execution_count": 4,
   "metadata": {},
   "outputs": [
    {
     "data": {
      "text/html": [
       "<div>\n",
       "<style scoped>\n",
       "    .dataframe tbody tr th:only-of-type {\n",
       "        vertical-align: middle;\n",
       "    }\n",
       "\n",
       "    .dataframe tbody tr th {\n",
       "        vertical-align: top;\n",
       "    }\n",
       "\n",
       "    .dataframe thead th {\n",
       "        text-align: right;\n",
       "    }\n",
       "</style>\n",
       "<table border=\"1\" class=\"dataframe\">\n",
       "  <thead>\n",
       "    <tr style=\"text-align: right;\">\n",
       "      <th></th>\n",
       "      <th>level</th>\n",
       "      <th>time</th>\n",
       "      <th>dtime</th>\n",
       "      <th>id</th>\n",
       "      <th>lon</th>\n",
       "      <th>lat</th>\n",
       "      <th>data0</th>\n",
       "    </tr>\n",
       "  </thead>\n",
       "  <tbody>\n",
       "    <tr>\n",
       "      <th>0</th>\n",
       "      <td>0</td>\n",
       "      <td>2018-08-01 08:00:00</td>\n",
       "      <td>0</td>\n",
       "      <td>1009</td>\n",
       "      <td>89.49</td>\n",
       "      <td>3.99</td>\n",
       "      <td>27.9</td>\n",
       "    </tr>\n",
       "    <tr>\n",
       "      <th>1</th>\n",
       "      <td>0</td>\n",
       "      <td>2018-08-01 08:00:00</td>\n",
       "      <td>0</td>\n",
       "      <td>29645</td>\n",
       "      <td>86.22</td>\n",
       "      <td>55.25</td>\n",
       "      <td>8.1</td>\n",
       "    </tr>\n",
       "    <tr>\n",
       "      <th>2</th>\n",
       "      <td>0</td>\n",
       "      <td>2018-08-01 08:00:00</td>\n",
       "      <td>0</td>\n",
       "      <td>28593</td>\n",
       "      <td>74.63</td>\n",
       "      <td>56.10</td>\n",
       "      <td>15.1</td>\n",
       "    </tr>\n",
       "    <tr>\n",
       "      <th>3</th>\n",
       "      <td>0</td>\n",
       "      <td>2018-08-01 08:00:00</td>\n",
       "      <td>0</td>\n",
       "      <td>36022</td>\n",
       "      <td>80.33</td>\n",
       "      <td>52.02</td>\n",
       "      <td>9.5</td>\n",
       "    </tr>\n",
       "    <tr>\n",
       "      <th>4</th>\n",
       "      <td>0</td>\n",
       "      <td>2018-08-01 08:00:00</td>\n",
       "      <td>0</td>\n",
       "      <td>29209</td>\n",
       "      <td>77.22</td>\n",
       "      <td>57.81</td>\n",
       "      <td>11.0</td>\n",
       "    </tr>\n",
       "    <tr>\n",
       "      <th>...</th>\n",
       "      <td>...</td>\n",
       "      <td>...</td>\n",
       "      <td>...</td>\n",
       "      <td>...</td>\n",
       "      <td>...</td>\n",
       "      <td>...</td>\n",
       "      <td>...</td>\n",
       "    </tr>\n",
       "    <tr>\n",
       "      <th>3994</th>\n",
       "      <td>0</td>\n",
       "      <td>2018-08-01 08:00:00</td>\n",
       "      <td>0</td>\n",
       "      <td>48679</td>\n",
       "      <td>103.67</td>\n",
       "      <td>1.63</td>\n",
       "      <td>24.4</td>\n",
       "    </tr>\n",
       "    <tr>\n",
       "      <th>3995</th>\n",
       "      <td>0</td>\n",
       "      <td>2018-08-01 08:00:00</td>\n",
       "      <td>0</td>\n",
       "      <td>16364</td>\n",
       "      <td>16.37</td>\n",
       "      <td>38.76</td>\n",
       "      <td>18.4</td>\n",
       "    </tr>\n",
       "    <tr>\n",
       "      <th>3996</th>\n",
       "      <td>0</td>\n",
       "      <td>2018-08-01 08:00:00</td>\n",
       "      <td>0</td>\n",
       "      <td>16415</td>\n",
       "      <td>14.87</td>\n",
       "      <td>38.58</td>\n",
       "      <td>24.1</td>\n",
       "    </tr>\n",
       "    <tr>\n",
       "      <th>3997</th>\n",
       "      <td>0</td>\n",
       "      <td>2018-08-01 08:00:00</td>\n",
       "      <td>0</td>\n",
       "      <td>16081</td>\n",
       "      <td>9.26</td>\n",
       "      <td>45.46</td>\n",
       "      <td>26.7</td>\n",
       "    </tr>\n",
       "    <tr>\n",
       "      <th>3998</th>\n",
       "      <td>0</td>\n",
       "      <td>2018-08-01 08:00:00</td>\n",
       "      <td>0</td>\n",
       "      <td>16314</td>\n",
       "      <td>16.66</td>\n",
       "      <td>40.68</td>\n",
       "      <td>22.9</td>\n",
       "    </tr>\n",
       "  </tbody>\n",
       "</table>\n",
       "<p>3999 rows × 7 columns</p>\n",
       "</div>"
      ],
      "text/plain": [
       "      level                time  dtime     id     lon    lat  data0\n",
       "0         0 2018-08-01 08:00:00      0   1009   89.49   3.99   27.9\n",
       "1         0 2018-08-01 08:00:00      0  29645   86.22  55.25    8.1\n",
       "2         0 2018-08-01 08:00:00      0  28593   74.63  56.10   15.1\n",
       "3         0 2018-08-01 08:00:00      0  36022   80.33  52.02    9.5\n",
       "4         0 2018-08-01 08:00:00      0  29209   77.22  57.81   11.0\n",
       "...     ...                 ...    ...    ...     ...    ...    ...\n",
       "3994      0 2018-08-01 08:00:00      0  48679  103.67   1.63   24.4\n",
       "3995      0 2018-08-01 08:00:00      0  16364   16.37  38.76   18.4\n",
       "3996      0 2018-08-01 08:00:00      0  16415   14.87  38.58   24.1\n",
       "3997      0 2018-08-01 08:00:00      0  16081    9.26  45.46   26.7\n",
       "3998      0 2018-08-01 08:00:00      0  16314   16.66  40.68   22.9\n",
       "\n",
       "[3999 rows x 7 columns]"
      ]
     },
     "execution_count": 4,
     "metadata": {},
     "output_type": "execute_result"
    }
   ],
   "source": [
    "meb.read_stadata_from_micaps3(r\"H:\\test_data\\output\\meb_new\\m3.txt\")"
   ]
  },
  {
   "cell_type": "code",
   "execution_count": null,
   "metadata": {},
   "outputs": [],
   "source": []
  }
 ],
 "metadata": {
  "kernelspec": {
   "display_name": "Python 3",
   "language": "python",
   "name": "python3"
  },
  "language_info": {
   "codemirror_mode": {
    "name": "ipython",
    "version": 3
   },
   "file_extension": ".py",
   "mimetype": "text/x-python",
   "name": "python",
   "nbconvert_exporter": "python",
   "pygments_lexer": "ipython3",
   "version": "3.7.6"
  }
 },
 "nbformat": 4,
 "nbformat_minor": 2
}
