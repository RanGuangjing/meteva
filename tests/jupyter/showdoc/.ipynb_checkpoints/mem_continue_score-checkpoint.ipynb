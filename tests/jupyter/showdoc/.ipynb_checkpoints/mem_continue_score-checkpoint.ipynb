{
 "cells": [
  {
   "cell_type": "code",
   "execution_count": 1,
   "metadata": {},
   "outputs": [],
   "source": [
    "%matplotlib inline\n",
    "%load_ext autoreload\n",
    "%autoreload 2\n",
    "import meteva.method as mem\n",
    "import numpy as np"
   ]
  },
  {
   "cell_type": "markdown",
   "metadata": {},
   "source": [
    "***通过随机函数生成测试数据，用于后续检验函数调用示例***"
   ]
  },
  {
   "cell_type": "code",
   "execution_count": 2,
   "metadata": {},
   "outputs": [],
   "source": [
    "ob = np.random.rand(1000,10)\n",
    "fo1 = np.random.rand(1000,10)\n",
    "fo2 = np.random.rand(5,1000,10)"
   ]
  },
  {
   "cell_type": "markdown",
   "metadata": {},
   "source": [
    "# 检验样本数     \n",
    "**<font face=\"黑体\" color=blue size = 5>sample_count(ob, fo)</font>**  \n",
    "计算检验的样本数  \n",
    "\n",
    "\n",
    "|参数|说明|    \n",
    "|:--|:--|  \n",
    "|**<font face=\"黑体\" color=blue size = 5>ob</font>**|实况数据, 任意维numpy数组|   \n",
    "|**<font face=\"黑体\" color=blue size = 5>fo</font>**| fo比Ob.shape多一维或者保持一致，fo.shape低维与ob.shape保持一致|   \n",
    "|<font face=\"黑体\" color=blue size=5>return</font>|整数|   \n",
    "\n",
    " \n",
    " **调用示例：**  "
   ]
  },
  {
   "cell_type": "code",
   "execution_count": 3,
   "metadata": {
    "scrolled": true
   },
   "outputs": [
    {
     "data": {
      "text/plain": [
       "10000"
      ]
     },
     "execution_count": 3,
     "metadata": {},
     "output_type": "execute_result"
    }
   ],
   "source": [
    "mem.sample_count(ob,fo1)  "
   ]
  },
  {
   "cell_type": "code",
   "execution_count": 4,
   "metadata": {
    "scrolled": true
   },
   "outputs": [
    {
     "data": {
      "text/plain": [
       "10000"
      ]
     },
     "execution_count": 4,
     "metadata": {},
     "output_type": "execute_result"
    }
   ],
   "source": [
    "mem.sample_count(ob,fo2)"
   ]
  },
  {
   "cell_type": "markdown",
   "metadata": {},
   "source": [
    "# 观测和预报的最大值     \n",
    "**<font face=\"黑体\" color=blue size = 5>ob_fo_max(ob, fo)</font>**  \n",
    "计算观测和预报的各自的最大值 \n",
    "  \n",
    "|参数|说明|    \n",
    "|:--|:--|  \n",
    "|**<font face=\"黑体\" color=blue size = 5>ob</font>**|实况数据, 任意维numpy数组|   \n",
    "|**<font face=\"黑体\" color=blue size = 5>fo</font>**| fo比Ob.shape多一维或者保持一致，fo.shape低维与ob.shape保持一致|   \n",
    "|**count**| 大于或等于1的整数，count大于1时返回前count个最大值|   \n",
    "|<font face=\"黑体\" color=blue size=5>return</font>|若count = 1，返回一维数组，shape = （1+预报成员数据），其中第一个元素为观测的最小值，其余为预报的最小值；若count大于1，则返回2维数组，shape = （1+预报成员数，count）。|    \n",
    "  \n",
    " **调用示例：**"
   ]
  },
  {
   "cell_type": "code",
   "execution_count": 5,
   "metadata": {},
   "outputs": [
    {
     "data": {
      "text/plain": [
       "array([[0.9999864 , 0.99993259, 0.99992283],\n",
       "       [0.99990847, 0.99986479, 0.99985143]])"
      ]
     },
     "execution_count": 5,
     "metadata": {},
     "output_type": "execute_result"
    }
   ],
   "source": [
    "mem.ob_fo_max(ob,fo1,count = 3)  #单个预报时，返回size =2的数组"
   ]
  },
  {
   "cell_type": "code",
   "execution_count": 6,
   "metadata": {},
   "outputs": [
    {
     "data": {
      "text/plain": [
       "array([[0.9999864 , 0.99993259, 0.99992283],\n",
       "       [0.99980297, 0.99974513, 0.99936124],\n",
       "       [0.99980777, 0.9998004 , 0.99979874],\n",
       "       [0.99997464, 0.99995211, 0.99992459],\n",
       "       [0.99993767, 0.99975278, 0.9995036 ],\n",
       "       [0.99977571, 0.99967861, 0.99949955]])"
      ]
     },
     "execution_count": 6,
     "metadata": {},
     "output_type": "execute_result"
    }
   ],
   "source": [
    "mem.ob_fo_max(ob,fo2,count = 3)  #多个预报是 返回数组的size =  1+预报成员"
   ]
  },
  {
   "cell_type": "markdown",
   "metadata": {},
   "source": [
    "# 观测和预报的最小值     \n",
    "**<font face=\"黑体\" color=blue size = 5>ob_fo_min(ob, fo)</font>**  \n",
    "计算观测和预报的各自的最小值 \n",
    "  \n",
    "|参数|说明|    \n",
    "|:--|:--|  \n",
    "|**<font face=\"黑体\" color=blue size = 5>ob</font>**|实况数据, 任意维numpy数组|   \n",
    "|**<font face=\"黑体\" color=blue size = 5>fo</font>**| fo比Ob.shape多一维或者保持一致，fo.shape低维与ob.shape保持一致|   \n",
    "|**count**| 大于或等于1的整数，count大于1时返回前count个最小值|   \n",
    "|<font face=\"黑体\" color=blue size=5>return</font>|若count = 1，返回一维数组，shape = （1+预报成员数据），其中第一个元素为观测的最小值，其余为预报的最小值；若count大于1，则返回2维数组，shape = （1+预报成员数，count）。|     \n",
    "  \n",
    " **调用示例：**"
   ]
  },
  {
   "cell_type": "code",
   "execution_count": 7,
   "metadata": {},
   "outputs": [
    {
     "data": {
      "text/plain": [
       "array([[1.04648537e-04, 1.29329037e-04, 1.53458487e-04],\n",
       "       [7.76596319e-05, 8.04158739e-05, 2.71467265e-04]])"
      ]
     },
     "execution_count": 7,
     "metadata": {},
     "output_type": "execute_result"
    }
   ],
   "source": [
    "mem.ob_fo_min(ob,fo1,count = 3)  #单个预报时，返回size =2的数组"
   ]
  },
  {
   "cell_type": "code",
   "execution_count": 8,
   "metadata": {},
   "outputs": [
    {
     "data": {
      "text/plain": [
       "array([[1.04648537e-04, 1.29329037e-04, 1.53458487e-04],\n",
       "       [6.45871300e-06, 7.98101031e-05, 3.38151288e-04],\n",
       "       [4.33021104e-05, 8.36576472e-05, 1.59569968e-04],\n",
       "       [3.18132233e-05, 3.82865644e-05, 1.19724017e-04],\n",
       "       [2.05390235e-04, 2.35209031e-04, 2.55065680e-04],\n",
       "       [1.24639758e-04, 3.41570979e-04, 3.52836509e-04]])"
      ]
     },
     "execution_count": 8,
     "metadata": {},
     "output_type": "execute_result"
    }
   ],
   "source": [
    "mem.ob_fo_min(ob,fo2,count = 3)  #多个预报是 返回数组的size =  1+预报成员"
   ]
  },
  {
   "cell_type": "markdown",
   "metadata": {},
   "source": [
    "# 观测和预报的平均值     \n",
    "**<font face=\"黑体\" color=blue size = 5>ob_fo_mean(ob, fo)</font>**  \n",
    "计算观测和预报的各自的平均值  \n",
    "  \n",
    "|参数|说明|    \n",
    "|:--|:--|  \n",
    "|**<font face=\"黑体\" color=blue size = 5>ob</font>**|实况数据, 任意维numpy数组|   \n",
    "|**<font face=\"黑体\" color=blue size = 5>fo</font>**| fo比Ob.shape多一维或者保持一致，fo.shape低维与ob.shape保持一致|   \n",
    "|<font face=\"黑体\" color=blue size=5>return</font>|一维数组，shape = （1+预报成员数据），其中第一个元素为观测的平均值，其余为预报的平均值|     \n",
    "  \n",
    " **调用示例：**"
   ]
  },
  {
   "cell_type": "code",
   "execution_count": 9,
   "metadata": {},
   "outputs": [
    {
     "data": {
      "text/plain": [
       "array([0.50905373, 0.50002543])"
      ]
     },
     "execution_count": 9,
     "metadata": {},
     "output_type": "execute_result"
    }
   ],
   "source": [
    "mem.ob_fo_mean(ob,fo1)  #单个预报时，返回size =2的数组"
   ]
  },
  {
   "cell_type": "code",
   "execution_count": 10,
   "metadata": {},
   "outputs": [
    {
     "data": {
      "text/plain": [
       "array([0.50905373, 0.50120232, 0.49521229, 0.49966055, 0.50248362,\n",
       "       0.5046267 ])"
      ]
     },
     "execution_count": 10,
     "metadata": {},
     "output_type": "execute_result"
    }
   ],
   "source": [
    "mem.ob_fo_mean(ob,fo2)  #多个预报是 返回数组的size =  1+预报成员"
   ]
  },
  {
   "cell_type": "markdown",
   "metadata": {},
   "source": [
    "# 观测和预报的标准差     \n",
    "**<font face=\"黑体\" color=blue size = 5>ob_fo_std(Ob, Fo)</font>**  \n",
    "计算观测和预报的各自数据集的标准差   \n",
    "  \n",
    "|参数|说明|    \n",
    "|:--|:--|  \n",
    "|**<font face=\"黑体\" color=blue size = 5>ob</font>**|实况数据, 任意维numpy数组|   \n",
    "|**<font face=\"黑体\" color=blue size = 5>fo</font>**| fo比Ob.shape多一维或者保持一致，fo.shape低维与ob.shape保持一致|   \n",
    "|<font face=\"黑体\" color=blue size=5>return</font>|一维数组，shape = （1+预报成员数据），其中第一个元素为观测的标准差，其余为预报的标准差|   \n",
    "  \n",
    " **调用示例：**"
   ]
  },
  {
   "cell_type": "code",
   "execution_count": 11,
   "metadata": {},
   "outputs": [
    {
     "data": {
      "text/plain": [
       "array([0.28728665, 0.28973415])"
      ]
     },
     "execution_count": 11,
     "metadata": {},
     "output_type": "execute_result"
    }
   ],
   "source": [
    "mem.ob_fo_std(ob,fo1)  #单个预报时，返回size =2的数组"
   ]
  },
  {
   "cell_type": "code",
   "execution_count": 12,
   "metadata": {},
   "outputs": [
    {
     "data": {
      "text/plain": [
       "array([0.28728665, 0.28697191, 0.28693975, 0.28878313, 0.28980261,\n",
       "       0.29031058])"
      ]
     },
     "execution_count": 12,
     "metadata": {},
     "output_type": "execute_result"
    }
   ],
   "source": [
    "mem.ob_fo_std(ob,fo2)  #多个预报是 返回数组的size =  1+预报成员"
   ]
  },
  {
   "cell_type": "markdown",
   "metadata": {},
   "source": [
    "# 准确率     \n",
    "**<font face=\"黑体\" color=blue size = 5>correct_rate(ob,fo,grade_list = [2])</font>**  \n",
    "根据设定的阈值，计算两组数据的误差绝对值小于阈值的比例  \n",
    "\n",
    "\n",
    "|参数|说明|    \n",
    "|:--|:--|  \n",
    "|**<font face=\"黑体\" color=blue size = 5>ob</font>**|实况数据, 任意维numpy数组|   \n",
    "|**<font face=\"黑体\" color=blue size = 5>fo</font>**| fo比Ob.shape多一维或者保持一致，fo.shape低维与ob.shape保持一致|  \n",
    "|**<font face=\"黑体\" color=blue size = 5>grade_list</font>**| 判断为准确的误差阈值列表，误差绝对值小于等于阈值的样本记为正确,可以在grade_list 同时设置多个阈值进行检验|     \n",
    "|<font face=\"黑体\" color=blue size=5>return</font>|如果fo和ob的shape一致（即只有一种预报），当grade_list 长度为1时返回结果为实数，长度不为1时返回一维数组；如果fo比ob高出一维，当grade_list长度为1时则返回1维数组，size等于预报成员数，当grade_list长度不为1时，返回2维数组 shape = (预报成员数，阈值数）。每个元素是0到1的实数，最优值为1，|   \n",
    "  \n",
    " **调用示例：**\n"
   ]
  },
  {
   "cell_type": "code",
   "execution_count": 13,
   "metadata": {},
   "outputs": [
    {
     "data": {
      "text/plain": [
       "0.7495"
      ]
     },
     "execution_count": 13,
     "metadata": {},
     "output_type": "execute_result"
    }
   ],
   "source": [
    "mem.correct_rate(ob,fo1,[0.5])  #单个预报时，返回实数"
   ]
  },
  {
   "cell_type": "code",
   "execution_count": 14,
   "metadata": {},
   "outputs": [
    {
     "data": {
      "text/plain": [
       "array([[0.747 , 1.    ],\n",
       "       [0.7611, 1.    ],\n",
       "       [0.7449, 1.    ],\n",
       "       [0.7509, 1.    ],\n",
       "       [0.7558, 1.    ]])"
      ]
     },
     "execution_count": 14,
     "metadata": {},
     "output_type": "execute_result"
    }
   ],
   "source": [
    "mem.correct_rate(ob,fo2,[0.5,1])  #多个预报时返回数组，size  = 预报成员数"
   ]
  },
  {
   "cell_type": "markdown",
   "metadata": {},
   "source": [
    "**<font face=\"黑体\" color=blue size = 5>错误率</font>**     \n",
    "**wrong_rate(ob,fo,grade_list = [2])**  \n",
    "根据设定的阈值，计算两组数据的误差绝对值大于阈值的比例 ， 它等于1 - 准确率 \n",
    "\n",
    "\n",
    "|参数|说明|    \n",
    "|:--|:--|  \n",
    "|**<font face=\"黑体\" color=blue size = 5>ob</font>**|实况数据, 任意维numpy数组|   \n",
    "|**<font face=\"黑体\" color=blue size = 5>fo</font>**| fo比Ob.shape多一维或者保持一致，fo.shape低维与ob.shape保持一致|  \n",
    "|**<font face=\"黑体\" color=blue size = 5>grade_list</font>**| 判断为错误的误差阈值列表，误差绝对值大于阈值的样本记为错误,可以在grade_list 同时设置多个阈值进行检验|     \n",
    "|<font face=\"黑体\" color=blue size=5>return</font>|如果fo和ob的shape一致（即只有一种预报），当grade_list 长度为1时返回结果为实数，长度不为1时返回一维数组；如果fo比ob高出一维，当grade_list长度为1时则返回1维数组，size等于预报成员数，当grade_list长度不为1时，返回2维数组 shape = (预报成员数，阈值数）。每个元素是0到1的实数，最优值为0，|  \n",
    "  \n",
    " **调用示例：**"
   ]
  },
  {
   "cell_type": "code",
   "execution_count": 15,
   "metadata": {},
   "outputs": [
    {
     "data": {
      "text/plain": [
       "array([[0.2505, 0.    ]])"
      ]
     },
     "execution_count": 15,
     "metadata": {},
     "output_type": "execute_result"
    }
   ],
   "source": [
    "mem.wrong_rate(ob,fo1,[0.5,1])  #单个预报时，返回实数"
   ]
  },
  {
   "cell_type": "markdown",
   "metadata": {},
   "source": [
    "# 平均误差     \n",
    "**<font face=\"黑体\" color=blue size = 5>me(ob,fo)</font>**  \n",
    "计算两组数据的误差平均值  \n",
    "  \n",
    "\n",
    "|参数|说明|    \n",
    "|:--|:--|  \n",
    "|**<font face=\"黑体\" color=blue size = 5>ob</font>**|实况数据, 任意维numpy数组|   \n",
    "|**<font face=\"黑体\" color=blue size = 5>fo</font>**| fo比Ob.shape多一维或者保持一致，fo.shape低维与ob.shape保持一致|   \n",
    "|<font face=\"黑体\" color=blue size=5>return</font>|如果fo和ob的shape一致（即只有一种预报），返回结果为实数；如果fo比ob高出一维，则返回1维数组，长度等于预报成员数。每个元素是负无穷到正无穷的实数，最优值为0|   \n",
    "  \n",
    " **调用示例：**\n"
   ]
  },
  {
   "cell_type": "code",
   "execution_count": 16,
   "metadata": {},
   "outputs": [
    {
     "data": {
      "text/plain": [
       "-0.009028297956900968"
      ]
     },
     "execution_count": 16,
     "metadata": {},
     "output_type": "execute_result"
    }
   ],
   "source": [
    "mem.me(ob,fo1)  #单个预报是返回实时"
   ]
  },
  {
   "cell_type": "code",
   "execution_count": 17,
   "metadata": {},
   "outputs": [
    {
     "data": {
      "text/plain": [
       "array([-0.00785141, -0.01384143, -0.00939318, -0.00657011, -0.00442703])"
      ]
     },
     "execution_count": 17,
     "metadata": {},
     "output_type": "execute_result"
    }
   ],
   "source": [
    "mem.me(ob,fo2)   #多个预报时返回数组，size = 预报成员数"
   ]
  },
  {
   "cell_type": "markdown",
   "metadata": {},
   "source": [
    "# 平均绝对误差     \n",
    "**<font face=\"黑体\" color=blue size = 5>mae(ob,fo)</font>**  \n",
    "计算两组数据平均绝对值误差  \n",
    "\n",
    "\n",
    "\n",
    "|参数|说明|    \n",
    "|:--|:--|  \n",
    "|**<font face=\"黑体\" color=blue size = 5>ob</font>**|实况数据, 任意维numpy数组|   \n",
    "|**<font face=\"黑体\" color=blue size = 5>fo</font>**| fo比Ob.shape多一维或者保持一致，fo.shape低维与ob.shape保持一致|   \n",
    "|<font face=\"黑体\" color=blue size=5>return</font>|如果fo和ob的shape一致（即只有一种预报），返回结果为实数；如果fo比ob高出一维，则返回1维数组，长度等于预报成员数。每个元素是0到正无穷的实数，最优值为0|   \n",
    "  \n",
    " **调用示例：**"
   ]
  },
  {
   "cell_type": "code",
   "execution_count": 18,
   "metadata": {},
   "outputs": [
    {
     "data": {
      "text/plain": [
       "0.3307275664156789"
      ]
     },
     "execution_count": 18,
     "metadata": {},
     "output_type": "execute_result"
    }
   ],
   "source": [
    "mem.mae(ob,fo1)   #单个预报是返回实时"
   ]
  },
  {
   "cell_type": "code",
   "execution_count": 19,
   "metadata": {},
   "outputs": [
    {
     "data": {
      "text/plain": [
       "array([0.33478286, 0.32810158, 0.33503365, 0.33345253, 0.33159825])"
      ]
     },
     "execution_count": 19,
     "metadata": {},
     "output_type": "execute_result"
    }
   ],
   "source": [
    "mem.mae(ob,fo2)   #多个预报时返回数组，size = 预报成员数"
   ]
  },
  {
   "cell_type": "markdown",
   "metadata": {},
   "source": [
    "# 均方误差     \n",
    "**<font face=\"黑体\" color=blue size = 5>mse(Ob,Fo)</font>**   \n",
    "计算两组数据误差平方的平均  \n",
    "\n",
    "   \n",
    "\n",
    "|参数|说明|    \n",
    "|:--|:--|  \n",
    "|**<font face=\"黑体\" color=blue size = 5>ob</font>**|实况数据, 任意维numpy数组|   \n",
    "|**<font face=\"黑体\" color=blue size = 5>fo</font>**| fo比Ob.shape多一维或者保持一致，fo.shape低维与ob.shape保持一致|   \n",
    "|<font face=\"黑体\" color=blue size=5>return</font>|如果fo和ob的shape一致（即只有一种预报），返回结果为实数；如果fo比ob高出一维，则返回1维数组，长度等于预报成员数。每个元素是0到正无穷的实数，最优值为0|   \n",
    "  \n",
    "**调用示例：**"
   ]
  },
  {
   "cell_type": "code",
   "execution_count": 20,
   "metadata": {},
   "outputs": [
    {
     "data": {
      "text/plain": [
       "0.16471585734245828"
      ]
     },
     "execution_count": 20,
     "metadata": {},
     "output_type": "execute_result"
    }
   ],
   "source": [
    "mem.mse(ob,fo1)    #单个预报是返回实时"
   ]
  },
  {
   "cell_type": "code",
   "execution_count": 21,
   "metadata": {},
   "outputs": [
    {
     "data": {
      "text/plain": [
       "array([0.16751167, 0.16166286, 0.16850407, 0.16712136, 0.16492557])"
      ]
     },
     "execution_count": 21,
     "metadata": {},
     "output_type": "execute_result"
    }
   ],
   "source": [
    "mem.mse(ob,fo2)   #多个预报时返回数组，size = 预报成员数"
   ]
  },
  {
   "cell_type": "markdown",
   "metadata": {},
   "source": [
    "# 均方根误差     \n",
    "**<font face=\"黑体\" color=blue size = 5>rmse(ob,fo)</font>**  \n",
    "计算两组数据的均方根误差  \n",
    "\n",
    "\n",
    "\n",
    "|参数|说明|    \n",
    "|:--|:--|  \n",
    "|**<font face=\"黑体\" color=blue size = 5>ob</font>**|实况数据, 任意维numpy数组|   \n",
    "|**<font face=\"黑体\" color=blue size = 5>fo</font>**| fo比Ob.shape多一维或者保持一致，fo.shape低维与ob.shape保持一致|   \n",
    "|<font face=\"黑体\" color=blue size=5>return</font>|如果fo和ob的shape一致（即只有一种预报），返回结果为实数；如果fo比ob高出一维，则返回1维数组，长度等于预报成员数。每个元素是0到正无穷的实数，最优值为0|   \n",
    "  \n",
    " **调用示例：**\n"
   ]
  },
  {
   "cell_type": "code",
   "execution_count": 22,
   "metadata": {},
   "outputs": [
    {
     "data": {
      "text/plain": [
       "0.40585201409190796"
      ]
     },
     "execution_count": 22,
     "metadata": {},
     "output_type": "execute_result"
    }
   ],
   "source": [
    "mem.rmse(ob,fo1)    #单个预报是返回实时"
   ]
  },
  {
   "cell_type": "code",
   "execution_count": 23,
   "metadata": {},
   "outputs": [
    {
     "data": {
      "text/plain": [
       "array([0.40928189, 0.40207321, 0.41049248, 0.4088048 , 0.40611029])"
      ]
     },
     "execution_count": 23,
     "metadata": {},
     "output_type": "execute_result"
    }
   ],
   "source": [
    "mem.rmse(ob,fo2)   #多个预报时返回数组，size = 预报成员数"
   ]
  },
  {
   "cell_type": "markdown",
   "metadata": {},
   "source": [
    "# 最大绝对误差    \n",
    "**<font face=\"黑体\" color=blue size = 5>max_abs_error(ob,fo)</font>**  \n",
    "计算两组数据误差绝对值的最大值  \n",
    "\n",
    "\n",
    "|参数|说明|    \n",
    "|:--|:--|  \n",
    "|**<font face=\"黑体\" color=blue size = 5>ob</font>**|实况数据, 任意维numpy数组|   \n",
    "|**<font face=\"黑体\" color=blue size = 5>fo</font>**| fo比Ob.shape多一维或者保持一致，fo.shape低维与ob.shape保持一致|   \n",
    "|<font face=\"黑体\" color=blue size=5>return</font>|如果fo和ob的shape一致（即只有一种预报），返回结果为实数；如果fo比ob高出一维，则返回1维数组，长度等于预报成员数。每个元素是0到正无穷的实数，最优值为0|   \n",
    "\n",
    " **调用示例：**\n"
   ]
  },
  {
   "cell_type": "code",
   "execution_count": 24,
   "metadata": {
    "scrolled": true
   },
   "outputs": [
    {
     "data": {
      "text/plain": [
       "array([0.99077964, 0.99470849, 0.99291126, 0.99087128, 0.9951345 ])"
      ]
     },
     "execution_count": 24,
     "metadata": {},
     "output_type": "execute_result"
    }
   ],
   "source": [
    "mem.max_abs_error(ob,fo2)"
   ]
  },
  {
   "cell_type": "markdown",
   "metadata": {},
   "source": [
    "# 最大误差    \n",
    "**<font face=\"黑体\" color=blue size = 5>max_error(ob,fo)</font>**  \n",
    "计算两组数据误差的最大值  \n",
    "\n",
    "# 最小误差    \n",
    "**<font face=\"黑体\" color=blue size = 5>min_error(ob,fo)</font>**  \n",
    "计算两组数据误差的最大值  \n",
    "\n",
    "|参数|说明|    \n",
    "|:--|:--|  \n",
    "|**<font face=\"黑体\" color=blue size = 5>ob</font>**|实况数据, 任意维numpy数组|   \n",
    "|**<font face=\"黑体\" color=blue size = 5>fo</font>**| fo比Ob.shape多一维或者保持一致，fo.shape低维与ob.shape保持一致|   \n",
    "|<font face=\"黑体\" color=blue size=5>return</font>|如果fo和ob的shape一致（即只有一种预报），返回结果为实数；如果fo比ob高出一维，则返回1维数组，长度等于预报成员数。每个元素是负无穷到正无穷的实数，最优值为0|   \n",
    "\n",
    " **调用示例：**\n"
   ]
  },
  {
   "cell_type": "code",
   "execution_count": 25,
   "metadata": {},
   "outputs": [
    {
     "data": {
      "text/plain": [
       "array([0.98225958, 0.98915727, 0.98877197, 0.98833092, 0.9951345 ])"
      ]
     },
     "execution_count": 25,
     "metadata": {},
     "output_type": "execute_result"
    }
   ],
   "source": [
    "mem.max_error(ob,fo2)"
   ]
  },
  {
   "cell_type": "code",
   "execution_count": 26,
   "metadata": {},
   "outputs": [
    {
     "data": {
      "text/plain": [
       "array([-0.99077964, -0.99470849, -0.99291126, -0.99087128, -0.98815246])"
      ]
     },
     "execution_count": 26,
     "metadata": {},
     "output_type": "execute_result"
    }
   ],
   "source": [
    "mem.min_error(ob,fo2)"
   ]
  },
  {
   "cell_type": "markdown",
   "metadata": {},
   "source": [
    "# 均值偏差     \n",
    "**<font face=\"黑体\" color=blue size = 5>bias_m(ob,fo)</font>**  \n",
    "计算两组数据的平均值之比  \n",
    "\n",
    "\n",
    "|参数|说明|    \n",
    "|:--|:--|  \n",
    "|**<font face=\"黑体\" color=blue size = 5>ob</font>**|实况数据, 任意维numpy数组|   \n",
    "|**<font face=\"黑体\" color=blue size = 5>fo</font>**| fo比Ob.shape多一维或者保持一致，fo.shape低维与ob.shape保持一致|   \n",
    "|<font face=\"黑体\" color=blue size=5>return</font>|如果fo和ob的shape一致（即只有一种预报），返回结果为实数；如果fo比ob高出一维，则返回1维数组，长度等于预报成员数。每个元素是0到正无穷的实数，最优值为1|   \n",
    "  \n",
    " **调用示例：**\n",
    " "
   ]
  },
  {
   "cell_type": "code",
   "execution_count": 27,
   "metadata": {
    "scrolled": true
   },
   "outputs": [
    {
     "data": {
      "text/plain": [
       "0.9822645480511522"
      ]
     },
     "execution_count": 27,
     "metadata": {},
     "output_type": "execute_result"
    }
   ],
   "source": [
    "mem.bias_m(ob,fo1)   #单个预报是返回实时"
   ]
  },
  {
   "cell_type": "code",
   "execution_count": 28,
   "metadata": {},
   "outputs": [
    {
     "data": {
      "text/plain": [
       "array([0.98457646, 0.97280948, 0.98154776, 0.98709349, 0.99130342])"
      ]
     },
     "execution_count": 28,
     "metadata": {},
     "output_type": "execute_result"
    }
   ],
   "source": [
    "mem.bias_m(ob,fo2)   #多个预报时返回数组，size = 预报成员数"
   ]
  },
  {
   "cell_type": "markdown",
   "metadata": {},
   "source": [
    "# 相关系数     \n",
    "**<font face=\"黑体\" color=blue size = 5>corr(ob,fo)</font>**   \n",
    "计算两组数据相关系数 \n",
    "\n",
    "\n",
    "|参数|说明|    \n",
    "|:--|:--|  \n",
    "|**<font face=\"黑体\" color=blue size = 5>ob</font>**|实况数据, 任意维numpy数组|   \n",
    "|**<font face=\"黑体\" color=blue size = 5>fo</font>**| fo比Ob.shape多一维或者保持一致，fo.shape低维与ob.shape保持一致|   \n",
    "|<font face=\"黑体\" color=blue size=5>return</font>|如果fo和ob的shape一致（即只有一种预报），返回结果为实数；如果fo比ob高出一维，则返回1维数组，长度等于预报成员数。每个元素是-1到1的实数，最优值为1|   \n",
    "  \n",
    " **调用示例：**\n",
    "   "
   ]
  },
  {
   "cell_type": "code",
   "execution_count": 29,
   "metadata": {
    "scrolled": true
   },
   "outputs": [
    {
     "data": {
      "text/plain": [
       "0.011083728432888944"
      ]
     },
     "execution_count": 29,
     "metadata": {},
     "output_type": "execute_result"
    }
   ],
   "source": [
    "mem.corr(ob,fo1)   #单个预报是返回实时"
   ]
  },
  {
   "cell_type": "code",
   "execution_count": 30,
   "metadata": {
    "scrolled": true
   },
   "outputs": [
    {
     "data": {
      "text/plain": [
       "array([-0.01554726,  0.0206029 , -0.01498567, -0.00335727,  0.01143778])"
      ]
     },
     "execution_count": 30,
     "metadata": {},
     "output_type": "execute_result"
    }
   ],
   "source": [
    "mem.corr(ob,fo2)  #多个预报时返回数组，size = 预报成员数"
   ]
  },
  {
   "cell_type": "markdown",
   "metadata": {},
   "source": [
    "**<font face=\"黑体\" color=blue size = 5>残差率</font>**     \n",
    "**corr(ob,fo)**    \n",
    "计算线性回归的残差率，等于 (1 - corr * corr) ^0.5 \n",
    "\n",
    "\n",
    "|参数|说明|    \n",
    "|:--|:--|  \n",
    "|**<font face=\"黑体\" color=blue size = 5>ob</font>**|实况数据, 任意维numpy数组|   \n",
    "|**<font face=\"黑体\" color=blue size = 5>fo</font>**| fo比Ob.shape多一维或者保持一致，fo.shape低维与ob.shape保持一致|   \n",
    "|<font face=\"黑体\" color=blue size=5>return</font>|如果fo和ob的shape一致（即只有一种预报），返回结果为实数；如果fo比ob高出一维，则返回1维数组，长度等于预报成员数。每个元素是0到1的实数，最优值为0|   \n",
    "  \n",
    " **调用示例：**"
   ]
  },
  {
   "cell_type": "code",
   "execution_count": 31,
   "metadata": {},
   "outputs": [
    {
     "data": {
      "text/plain": [
       "0.9999385735954114"
      ]
     },
     "execution_count": 31,
     "metadata": {},
     "output_type": "execute_result"
    }
   ],
   "source": [
    "mem.residual_error_rate(ob,fo1)   #单个预报是返回实时"
   ]
  },
  {
   "cell_type": "markdown",
   "metadata": {},
   "source": [
    "**<font face=\"黑体\" color=blue size = 5>残差</font>**     \n",
    "**residual_error_rate(ob,fo)**    \n",
    "计算基于预报对实况进行回归后所得残差， = 残差率 * 观测数据的标准差  \n",
    "\n",
    "\n",
    "|参数|说明|    \n",
    "|:--|:--|  \n",
    "|**<font face=\"黑体\" color=blue size = 5>ob</font>**|实况数据, 任意维numpy数组|   \n",
    "|**<font face=\"黑体\" color=blue size = 5>fo</font>**| fo比Ob.shape多一维或者保持一致，fo.shape低维与ob.shape保持一致|   \n",
    "|<font face=\"黑体\" color=blue size=5>return</font>|如果fo和ob的shape一致（即只有一种预报），返回结果为实数；如果fo比ob高出一维，则返回1维数组，长度等于预报成员数。每个元素是0到无穷大的实数，最优值为0|   \n",
    "  \n",
    " **调用示例：**"
   ]
  },
  {
   "cell_type": "code",
   "execution_count": 32,
   "metadata": {},
   "outputs": [
    {
     "data": {
      "text/plain": [
       "0.2872689984910157"
      ]
     },
     "execution_count": 32,
     "metadata": {},
     "output_type": "execute_result"
    }
   ],
   "source": [
    "mem.residual_error(ob,fo1)   #单个预报是返回实时"
   ]
  },
  {
   "cell_type": "code",
   "execution_count": null,
   "metadata": {},
   "outputs": [],
   "source": []
  },
  {
   "cell_type": "markdown",
   "metadata": {},
   "source": [
    "# 定量相对误差     \n",
    "**<font face=\"黑体\" color=blue size = 5>mre(ob,fo)</font>**  \n",
    "对每一对观测和预报不同时为0的数据计算（预报-观测）/(预报+观测）取绝对值后再做平均\n",
    "\n",
    "\n",
    "|参数|说明|    \n",
    "|:--|:--|  \n",
    "|**<font face=\"黑体\" color=blue size = 5>ob</font>**|实况数据, 任意维numpy数组|   \n",
    "|**<font face=\"黑体\" color=blue size = 5>fo</font>**| fo比Ob.shape多一维或者保持一致，fo.shape低维与ob.shape保持一致|   \n",
    "|<font face=\"黑体\" color=blue size=5>return</font>|如果fo和ob的shape一致（即只有一种预报），返回结果为实数；如果fo比ob高出一维，则返回1维数组，长度等于预报成员数。每个元素是0到1的实数，最优值为0|   \n",
    "  \n",
    " **调用示例：**\n",
    " \n"
   ]
  },
  {
   "cell_type": "code",
   "execution_count": 33,
   "metadata": {
    "scrolled": true
   },
   "outputs": [
    {
     "data": {
      "text/plain": [
       "0.3813525950338694"
      ]
     },
     "execution_count": 33,
     "metadata": {},
     "output_type": "execute_result"
    }
   ],
   "source": [
    "mem.mre(ob,fo1)   #单个预报是返回实时"
   ]
  },
  {
   "cell_type": "code",
   "execution_count": 34,
   "metadata": {
    "scrolled": false
   },
   "outputs": [
    {
     "data": {
      "text/plain": [
       "array([0.3831568 , 0.3821439 , 0.38483622, 0.38368578, 0.3827288 ])"
      ]
     },
     "execution_count": 34,
     "metadata": {},
     "output_type": "execute_result"
    }
   ],
   "source": [
    "mem.mre(ob,fo2)  #多个预报时返回数组，size = 预报成员数"
   ]
  },
  {
   "cell_type": "markdown",
   "metadata": {},
   "source": [
    "# 纳什系数     \n",
    "**<font face=\"黑体\" color=blue size = 5>nse(ob,fo)</font>**    \n",
    "水文中常用的降水检验方法，计算方法为：1 - 均方误差/观测方差  \n",
    "\n",
    "\n",
    "|参数|说明|    \n",
    "|:--|:--|  \n",
    "|**<font face=\"黑体\" color=blue size = 5>ob</font>**|实况数据, 任意维numpy数组|   \n",
    "|**<font face=\"黑体\" color=blue size = 5>fo</font>**| fo比Ob.shape多一维或者保持一致，fo.shape低维与ob.shape保持一致|   \n",
    "|<font face=\"黑体\" color=blue size=5>return</font>|如果fo和ob的shape一致（即只有一种预报），返回结果为实数；如果fo比ob高出一维，则返回1维数组，长度等于预报成员数。每个元素是负无穷到1的实数，最优值为1|   \n",
    "  \n",
    " **调用示例：**"
   ]
  },
  {
   "cell_type": "code",
   "execution_count": 35,
   "metadata": {},
   "outputs": [
    {
     "data": {
      "text/plain": [
       "-0.9957426317872551"
      ]
     },
     "execution_count": 35,
     "metadata": {},
     "output_type": "execute_result"
    }
   ],
   "source": [
    "mem.nse(ob,fo1)   #单个预报是返回实时"
   ]
  },
  {
   "cell_type": "code",
   "execution_count": 36,
   "metadata": {},
   "outputs": [
    {
     "data": {
      "text/plain": [
       "array([-1.02961744, -0.95875171, -1.04164169, -1.02488841, -0.99828356])"
      ]
     },
     "execution_count": 36,
     "metadata": {},
     "output_type": "execute_result"
    }
   ],
   "source": [
    "mem.nse(ob,fo2)  #多个预报时返回数组，size = 预报成员数"
   ]
  },
  {
   "cell_type": "markdown",
   "metadata": {},
   "source": [
    "在以上示例中，观测和预报的数据都直接输入到评分函数中进行计算，然而有些情况下待检验的数据太大不能整体存入一个numpy数组中，或者不方便整体存入一个numpy数组中，此时就不能调用上面的方式调用评分函数。为此本程序库设计了一套可分块计算的检验程序。  \n",
    "其检验步骤如下：  \n",
    "***步骤1：根据需要将分块数据逐一输入到中间结果计算函数***  \n",
    "***步骤2：将中间结果进行累加或合并***  \n",
    "***步骤3：根据累加或合并的中间结果计算检验指标***  \n",
    "通常上述计算中步骤1是最耗费计算资源，为了提高效率步骤1也可以采用**并行**的方式执行。此外，步骤1执行的结果也可**输出到文件**中，在后续的检验可以从中读入部分中间结果执行后续步骤，从而可以实现各种方式的分组检验，大大提高检验计算效率。"
   ]
  },
  {
   "cell_type": "markdown",
   "metadata": {},
   "source": [
    "# 总样本数、正确的样本数     \n",
    "**<font face=\"黑体\" color=blue size = 5>tc_count(ob,fo，grade_list = [2])</font>**  \n",
    "用来计算me、mae、mse、rmse、nse等检验指标的中间量  \n",
    "\n",
    "\n",
    "|参数|说明|    \n",
    "|:--|:--|  \n",
    "|**<font face=\"黑体\" color=blue size = 5>ob</font>**|实况数据, 任意维numpy数组|   \n",
    "|**<font face=\"黑体\" color=blue size = 5>fo</font>**| fo比ob.shape多一维或者保持一致，fo.shape低维与ob.shape保持一致|  \n",
    "|**<font face=\"黑体\" color=blue size = 5>grade_list</font>**| 判断为准确的误差阈值列表，误差绝对值小于等于阈值的样本记为正确,可以在grade_list 同时设置多个阈值进行检验|  \n",
    "|<font face=\"黑体\" color=blue size=5>return</font>|一个numpy数组，fo.shape 比ob.shape多一维时，即fo包含多个预报成员时，array.shape= (预报成员数，1+等级数),fo.shape与ob.shape相同时结果为size=1+等级数 的一维数组,其中最后一维内容依次为总样本数、各阈值等级对应的正确的样本数| \n",
    "\n",
    "\n",
    " \n",
    " \n",
    " \n",
    "# 总样本数、误差总和、绝对误差总和、误差平方总和     \n",
    "**<font face=\"黑体\" color=blue size = 5>tase(ob,fo)</font>**  \n",
    "用来计算me、mae、mse、rmse、nse等检验指标的中间量  \n",
    "\n",
    "\n",
    "|参数|说明|    \n",
    "|:--|:--|  \n",
    "|**<font face=\"黑体\" color=blue size = 5>ob</font>**|实况数据, 任意维numpy数组|   \n",
    "|**<font face=\"黑体\" color=blue size = 5>fo</font>**| fo比ob.shape多一维或者保持一致，fo.shape低维与ob.shape保持一致|   \n",
    "|<font face=\"黑体\" color=blue size=5>return</font>|一个numpy数组，fo.shape 比ob.shape多一维时，即fo包含多个预报成员时，array.shape= (预报成员数，4),fo.shape与ob.shape相同时结果为size=4的一维数组,其中最后一维内容依次为内容依次为总样本数、误差总和、绝对误差总和、误差平方总和|   \n",
    "\n",
    "\n",
    "   \n",
    "\n",
    "# 预报和观测值之和大于0样本数、相对误差绝对值总和     \n",
    "**<font face=\"黑体\" color=blue size = 5>toar(ob,fo)</font>**  \n",
    "用来计算mre等检验指标的中间量   \n",
    "\n",
    "|参数|说明|    \n",
    "|:--|:--|  \n",
    "|**<font face=\"黑体\" color=blue size = 5>ob</font>**|实况数据, 任意维numpy数组|   \n",
    "|**<font face=\"黑体\" color=blue size = 5>fo</font>**| fo比ob.shape多一维或者保持一致，fo.shape低维与ob.shape保持一致|   \n",
    "|<font face=\"黑体\" color=blue size=5>return</font>|一个numpy数组，fo.shape 比ob.shape多一维时，即fo包含多个预报成员时，array.shape= (预报成员数，2),fo.shape与ob.shape相同时结果为size=2的一维数组,其中最后一维内容依次为预报和观测值之和大于0样本数、相对误差绝对值总和|   \n",
    "\n",
    " \n",
    "   \n",
    "# 样本数、观测平均值、预报平均值、观测方差、预报方差、协方差     \n",
    "**<font face=\"黑体\" color=blue size = 5>tmmsss(ob,fo)</font>**   \n",
    "用来计算bias、corr、nse等检验指标的中间量  \n",
    "\n",
    "\n",
    "|参数|说明|    \n",
    "|:--|:--|  \n",
    "|**<font face=\"黑体\" color=blue size = 5>ob</font>**|实况数据, 任意维numpy数组|   \n",
    "|**<font face=\"黑体\" color=blue size = 5>fo</font>**| fo比ob.shape多一维或者保持一致，fo.shape低维与ob.shape保持一致|   \n",
    "|<font face=\"黑体\" color=blue size=5>return</font>|一个numpy数组，fo.shape 比ob.shape多一维时，即fo包含多个预报成员时，array.shape= (预报成员数，6),fo.shape与ob.shape相同时结果为size=6的一维数组,其中最后一维内容依次为样本数、观测平均值、预报平均值、观测方差、预报方差、协方差|  \n",
    "\n",
    "\n",
    "\n",
    "# tmmsss合并函数     \n",
    "**<font face=\"黑体\" color=blue size = 5>tmmsss_merge(tmmsss0,tmmsss1)</font>**  \n",
    "用来将tmmsss计算得到的分块中间统计量进行合并，得到两块数据并集对应的统计量   \n",
    "\n",
    "|参数|说明|    \n",
    "|:--|:--|  \n",
    "|**<font face=\"黑体\" color=blue size = 5>tmmsss0</font>**|任意维numpy数组，最后一维size = 5,内容包括（样本数、观测平均值、预报平均值、观测方差、预报方差、协方差）|   \n",
    "|**<font face=\"黑体\" color=blue size = 5>tmmsss1</font>**|shape和内容含义和tmmsss0一致|   \n",
    "|<font face=\"黑体\" color=blue size=5>return</font>|合并后的中间统计量，shape和内容含义和tmmsss0一致|  \n",
    "\n",
    "   \n",
    " **调用示例：**"
   ]
  },
  {
   "cell_type": "code",
   "execution_count": 37,
   "metadata": {},
   "outputs": [],
   "source": [
    "#假设在本示例中ob和fo的数据不能或不便整体输入到检验函数中，可以采用如下方式分块计算检验的中间结果。\n",
    "#再把中间结果进行相加或合并。\n",
    "\n",
    "tase_array1 = np.zeros(4)            #声明长度为4的数组存储最终合并后的中间统计量\n",
    "tms_array1 = np.zeros(6)          #声明长度为6的数组存储最终合并后的中间统计量\n",
    "toar_array1 = np.zeros(2)            #声明长度为2的数组存储最终合并后的中间统计量\n",
    "tc_array1 = np.zeros(2)\n",
    "for i in range(ob.shape[1]):\n",
    "    ob1 = ob[:,i]                   #获取分块数据\n",
    "    fo_piece1 = fo1[:,i]\n",
    "    tase1 = mem.tase(ob1,fo_piece1)           #调用函数计算分块数据的中间统计量\n",
    "    tase_array1 += tase1             #通过数组累加可直接获得tase的合并结果\n",
    "    tms1 = mem.tmmsss(ob1,fo_piece1)                   #调用函数计算分块数据的中间统计量\n",
    "    tms_array1 = mem.tmmsss_merge(tms_array1,tms1) #需调用合并函数获得tmmsss的合并结果\n",
    "    toar1 = mem.toar(ob1,fo_piece1)              #调用函数计算分块数据的中间统计量\n",
    "    toar_array1 += toar1                #通过数组累加可直接获得tase的合并结果\n",
    "    tc1 = mem.tc_count(ob1,fo_piece1,[0.5])   #调用函数计算分块数据的中间统计量\n",
    "    tc_array1  += tc1    #通过数组累加可直接获得tc_count的合并结果"
   ]
  },
  {
   "cell_type": "code",
   "execution_count": 38,
   "metadata": {},
   "outputs": [],
   "source": [
    "#存储中间结果的数组也可以是高维的，示例如下：\n",
    "\n",
    "tase_array2 = np.zeros((5,4))            #声明长度为4的数组存储最终合并后的中间统计量\n",
    "tms_array2 = np.zeros((5,6))          #声明长度为6的数组存储最终合并后的中间统计量)\n",
    "toar_array2 = np.zeros((5,2))            #声明长度为2的数组存储最终合并后的中间统计量)\n",
    "tc_array2 = np.zeros((5,2))\n",
    "for i in range(ob.shape[1]):\n",
    "    ob1 = ob[:,i]                   #获取分块数据\n",
    "    fo_piece2 = fo2[...,i]\n",
    "    \n",
    "    tase1 = mem.tase(ob1,fo_piece2)           #调用函数计算分块数据的中间统计量\n",
    "    tase_array2 += tase1             #通过数组累加可直接获得tase的合并结果\n",
    "    tms1 = mem.tmmsss(ob1,fo_piece2)                   #调用函数计算分块数据的中间统计量\n",
    "    tms_array2 = mem.tmmsss_merge(tms_array2,tms1) #需调用合并函数获得tmmsss的合并结果\n",
    "    toar1 = mem.toar(ob1,fo_piece2)              #调用函数计算分块数据的中间统计量\n",
    "    toar_array2 += toar1                #通过数组累加可直接获得tase的合并结果\n",
    "    tc1 = mem.tc_count(ob1,fo_piece2,[0.5])   #调用函数计算分块数据的中间统计量\n",
    "    tc_array2  += tc1    #通过数组累加可直接获得tc_count的合并结果"
   ]
  },
  {
   "cell_type": "markdown",
   "metadata": {},
   "source": [
    "**以下为根据合并后的中间统计量计算最终检验指标的函数：**  \n",
    "\n",
    "# 准确率     \n",
    "**<font face=\"黑体\" color=blue size = 5>correct_rate_tc(tc_count_array)</font>**  \n",
    "计算两组数据误差小于阈值的比例  \n",
    "\n",
    "|参数|说明|    \n",
    "|:--|:--|  \n",
    "|**<font face=\"黑体\" color=blue size = 5>tc_count_array</font>**|包含检验中间结果的多维数组，其中最后一维长度为2，分别记录了总样本数和正确样本数，它通常是tc_count函数的计算结果，或者计算结果的累加|   \n",
    "|<font face=\"黑体\" color=blue size=5>return</font>|整数或数组，它比tc_count_array少了最后一维。其中每个元素为0到1的实数，最优值为1  |  \n",
    "\n",
    "**调用示例：**"
   ]
  },
  {
   "cell_type": "code",
   "execution_count": 39,
   "metadata": {},
   "outputs": [
    {
     "data": {
      "text/plain": [
       "0.7495"
      ]
     },
     "execution_count": 39,
     "metadata": {},
     "output_type": "execute_result"
    }
   ],
   "source": [
    "mem.correct_rate_tc(tc_array1)    #单个预报是返回实时"
   ]
  },
  {
   "cell_type": "code",
   "execution_count": 40,
   "metadata": {},
   "outputs": [
    {
     "data": {
      "text/plain": [
       "array([0.747 , 0.7611, 0.7449, 0.7509, 0.7558])"
      ]
     },
     "execution_count": 40,
     "metadata": {},
     "output_type": "execute_result"
    }
   ],
   "source": [
    "mem.correct_rate_tc(tc_array2)   #多个预报时返回数组，size = 预报成员数"
   ]
  },
  {
   "cell_type": "markdown",
   "metadata": {},
   "source": [
    "**<font face=\"黑体\" color=blue size = 5>错误率</font>**     \n",
    "**wrong_rate_tc(tc_count_array)**  \n",
    "计算两组数据误差大于阈值的比例  \n",
    "\n",
    "\n",
    "|参数|说明|    \n",
    "|:--|:--|  \n",
    "|**<font face=\"黑体\" color=blue size = 5>tc_count_array</font>**|包含检验中间结果的多维数组，其中最后一维长度为2，分别记录了总样本数和正确样本数，它通常是tc_count函数的计算结果，或者计算结果的累加|   \n",
    "|<font face=\"黑体\" color=blue size=5>return</font>|整数或数组，它比tc_count_array少了最后一维。其中每个元素为0到1的实数，最优值为0  |  \n",
    "\n",
    "**调用示例：**"
   ]
  },
  {
   "cell_type": "code",
   "execution_count": 41,
   "metadata": {},
   "outputs": [
    {
     "data": {
      "text/plain": [
       "0.25049999999999994"
      ]
     },
     "execution_count": 41,
     "metadata": {},
     "output_type": "execute_result"
    }
   ],
   "source": [
    "mem.wrong_rate_tc(tc_array1)    #单个预报是返回实时"
   ]
  },
  {
   "cell_type": "markdown",
   "metadata": {},
   "source": [
    "# 平均误差     \n",
    "**<font face=\"黑体\" color=blue size = 5>me_tase(tase_array)</font>**  \n",
    "计算两组数据的误差平均值  \n",
    "\n",
    "\n",
    "|参数|说明|    \n",
    "|:--|:--|  \n",
    "|**<font face=\"黑体\" color=blue size = 5>tase_array</font>**|包含检验中间结果的多维数组，其中最后一维长度为4，分别记录了样本数，误差和、绝对误差和，误差平方和，它通常是tase函数的计算结果，或者计算结果的累加|   \n",
    "|<font face=\"黑体\" color=blue size=5>return</font>|整数或数组，它比tase_array少了最后一维。其中每个元素为负无穷到正无穷的实数，最优值为0  | \n",
    "\n",
    "   \n",
    "**调用示例：**"
   ]
  },
  {
   "cell_type": "code",
   "execution_count": 42,
   "metadata": {},
   "outputs": [
    {
     "data": {
      "text/plain": [
       "-0.009028297956900968"
      ]
     },
     "execution_count": 42,
     "metadata": {},
     "output_type": "execute_result"
    }
   ],
   "source": [
    "mem.me_tase(tase_array1)    #单个预报是返回实时"
   ]
  },
  {
   "cell_type": "code",
   "execution_count": 43,
   "metadata": {},
   "outputs": [
    {
     "data": {
      "text/plain": [
       "array([-0.00785141, -0.01384143, -0.00939318, -0.00657011, -0.00442703])"
      ]
     },
     "execution_count": 43,
     "metadata": {},
     "output_type": "execute_result"
    }
   ],
   "source": [
    "mem.me_tase(tase_array2)  #多个预报时返回数组，size = 预报成员数"
   ]
  },
  {
   "cell_type": "markdown",
   "metadata": {},
   "source": [
    "# 平均绝对误差     \n",
    "**<font face=\"黑体\" color=blue size = 5>mae_tase(tase_array)</font>**   \n",
    "计算两组数据平均绝对值误差 \n",
    "\n",
    "\n",
    "|参数|说明|    \n",
    "|:--|:--|  \n",
    "|**<font face=\"黑体\" color=blue size = 5>tase_array</font>**|包含检验中间结果的多维数组，其中最后一维长度为4，分别记录了样本数，误差和、绝对误差和，误差平方和，它通常是tase函数的计算结果，或者计算结果的累加|   \n",
    "|<font face=\"黑体\" color=blue size=5>return</font>|整数或数组，它比tase_array少了最后一维。其中每个元素为0到正无穷的实数，最优值为0| \n",
    "  \n",
    "\n",
    " **调用示例：**"
   ]
  },
  {
   "cell_type": "code",
   "execution_count": 44,
   "metadata": {},
   "outputs": [
    {
     "data": {
      "text/plain": [
       "0.33072756641567896"
      ]
     },
     "execution_count": 44,
     "metadata": {},
     "output_type": "execute_result"
    }
   ],
   "source": [
    "mem.mae_tase(tase_array1)   #单个预报是返回实时"
   ]
  },
  {
   "cell_type": "code",
   "execution_count": 45,
   "metadata": {},
   "outputs": [
    {
     "data": {
      "text/plain": [
       "array([0.33478286, 0.32810158, 0.33503365, 0.33345253, 0.33159825])"
      ]
     },
     "execution_count": 45,
     "metadata": {},
     "output_type": "execute_result"
    }
   ],
   "source": [
    "mem.mae_tase(tase_array2)   #多个预报时返回数组，size = 预报成员数"
   ]
  },
  {
   "cell_type": "markdown",
   "metadata": {},
   "source": [
    "# 均方误差     \n",
    "**<font face=\"黑体\" color=blue size = 5>mse_tase(tase_array)</font>**   \n",
    "计算两组数据均方误差 \n",
    "  \n",
    "\n",
    "|参数|说明|    \n",
    "|:--|:--|  \n",
    "|**<font face=\"黑体\" color=blue size = 5>tase_array</font>**|包含检验中间结果的多维数组，其中最后一维长度为4，分别记录了样本数，误差和、绝对误差和，误差平方和，它通常是tase函数的计算结果，或者计算结果的累加|   \n",
    "|<font face=\"黑体\" color=blue size=5>return</font>|整数或数组，它比tase_array少了最后一维。其中每个元素为0到正无穷的实数，最优值为0| \n",
    "\n",
    "**调用示例：**"
   ]
  },
  {
   "cell_type": "code",
   "execution_count": 46,
   "metadata": {},
   "outputs": [
    {
     "data": {
      "text/plain": [
       "0.16471585734245825"
      ]
     },
     "execution_count": 46,
     "metadata": {},
     "output_type": "execute_result"
    }
   ],
   "source": [
    "mem.mse_tase(tase_array1)   #单个预报是返回实时"
   ]
  },
  {
   "cell_type": "code",
   "execution_count": 47,
   "metadata": {},
   "outputs": [
    {
     "data": {
      "text/plain": [
       "array([0.16751167, 0.16166286, 0.16850407, 0.16712136, 0.16492557])"
      ]
     },
     "execution_count": 47,
     "metadata": {},
     "output_type": "execute_result"
    }
   ],
   "source": [
    "mem.mse_tase(tase_array2)   #多个预报时返回数组，size = 预报成员数"
   ]
  },
  {
   "cell_type": "markdown",
   "metadata": {},
   "source": [
    "# 平均绝对误差     \n",
    "**<font face=\"黑体\" color=blue size = 5>rmse_tase(tase_array)</font>**   \n",
    "计算两组数据均方根误差 \n",
    "  \n",
    "\n",
    "|参数|说明|    \n",
    "|:--|:--|  \n",
    "|**<font face=\"黑体\" color=blue size = 5>tase_array</font>**|包含检验中间结果的多维数组，其中最后一维长度为4，分别记录了样本数，误差和、绝对误差和，误差平方和，它通常是tase函数的计算结果，或者计算结果的累加|   \n",
    "|<font face=\"黑体\" color=blue size=5>return</font>|整数或数组，它比tase_array少了最后一维。其中每个元素为0到正无穷的实数，最优值为0| \n",
    "\n",
    "**调用示例：**"
   ]
  },
  {
   "cell_type": "code",
   "execution_count": 48,
   "metadata": {},
   "outputs": [
    {
     "data": {
      "text/plain": [
       "0.40585201409190796"
      ]
     },
     "execution_count": 48,
     "metadata": {},
     "output_type": "execute_result"
    }
   ],
   "source": [
    "mem.rmse_tase(tase_array1)    #单个预报是返回实时"
   ]
  },
  {
   "cell_type": "code",
   "execution_count": 49,
   "metadata": {},
   "outputs": [
    {
     "data": {
      "text/plain": [
       "array([0.40928189, 0.40207321, 0.41049248, 0.4088048 , 0.40611029])"
      ]
     },
     "execution_count": 49,
     "metadata": {},
     "output_type": "execute_result"
    }
   ],
   "source": [
    "mem.rmse_tase(tase_array2)  #多个预报时返回数组，size = 预报成员数"
   ]
  },
  {
   "cell_type": "markdown",
   "metadata": {},
   "source": [
    "# 均值偏差     \n",
    "**<font face=\"黑体\" color=blue size = 5>bias_cmmsss(cmmsss_array)</font>**\n",
    "计算求预测数据和实况数据的平均值之比\n",
    "\n",
    "\n",
    "\n",
    "|参数|说明|    \n",
    "|:--|:--|  \n",
    "|**<font face=\"黑体\" color=blue size = 5>cmmsss_array</font>**|包含检验中间结果的多维数组，其中最后一维长度为6，分别记录了样本数、观测平均值、预报平均值、观测方差、预报方差、协方差，它通常是cmmsss函数的计算结果，或者再经tmmsss_merge函数合并的结果|   \n",
    "|<font face=\"黑体\" color=blue size=5>return</font>|整数或数组，它比cmmsss_array少了最后一维。其中每个元素为0到正无穷，最优值为1  | \n",
    "\n",
    " **调用示例：**"
   ]
  },
  {
   "cell_type": "code",
   "execution_count": 50,
   "metadata": {},
   "outputs": [
    {
     "data": {
      "text/plain": [
       "0.9822645480511526"
      ]
     },
     "execution_count": 50,
     "metadata": {},
     "output_type": "execute_result"
    }
   ],
   "source": [
    "mem.bias_tmmsss(tms_array1)   #单个预报是返回实时"
   ]
  },
  {
   "cell_type": "code",
   "execution_count": 51,
   "metadata": {},
   "outputs": [
    {
     "data": {
      "text/plain": [
       "array([1.01566516, 1.02795051, 1.01879912, 1.01307527, 1.00877287])"
      ]
     },
     "execution_count": 51,
     "metadata": {},
     "output_type": "execute_result"
    }
   ],
   "source": [
    "mem.bias_tmmsss(tms_array2)  #多个预报时返回数组，size = 预报成员数"
   ]
  },
  {
   "cell_type": "markdown",
   "metadata": {},
   "source": [
    "# 相关系数     \n",
    "**<font face=\"黑体\" color=blue size = 5>corr_tmmsss(tmmsss_array)</font>**   \n",
    "计算求预测数据和实况数据的相关系数\n",
    "\n",
    "\n",
    "|参数|说明|    \n",
    "|:--|:--|  \n",
    "|**<font face=\"黑体\" color=blue size = 5>cmmsss_array</font>**|包含检验中间结果的多维数组，其中最后一维长度为6，分别记录了样本数、观测平均值、预报平均值、观测方差、预报方差、协方差，它通常是cmmsss函数的计算结果，或者再经tmmsss_merge函数合并的结果|   \n",
    "|<font face=\"黑体\" color=blue size=5>return</font>|整数或数组，它比cmmsss_array少了最后一维。其中每个元素为-1到1的实数，最优值为1  | \n",
    "  \n",
    "\n",
    "**调用示例：**"
   ]
  },
  {
   "cell_type": "code",
   "execution_count": 52,
   "metadata": {},
   "outputs": [
    {
     "data": {
      "text/plain": [
       "0.01108372843288894"
      ]
     },
     "execution_count": 52,
     "metadata": {},
     "output_type": "execute_result"
    }
   ],
   "source": [
    "mem.corr_tmmsss(tms_array1)    #单个预报是返回实时"
   ]
  },
  {
   "cell_type": "code",
   "execution_count": 53,
   "metadata": {},
   "outputs": [
    {
     "data": {
      "text/plain": [
       "array([-0.01554726,  0.0206029 , -0.01498567, -0.00335727,  0.01143778])"
      ]
     },
     "execution_count": 53,
     "metadata": {},
     "output_type": "execute_result"
    }
   ],
   "source": [
    "mem.corr_tmmsss(tms_array2)   #多个预报时返回数组，size = 预报成员数"
   ]
  },
  {
   "cell_type": "markdown",
   "metadata": {},
   "source": [
    "**<font face=\"黑体\" color=blue size = 5>残差率</font>**     \n",
    "**residual_error_rate_tmmsss(tmmsss_array)**  \n",
    "计算求预测数据和实况数据的线性回归后的残差率 =  (1 - corr^2) ^0.5\n",
    "\n",
    "\n",
    "|参数|说明|    \n",
    "|:--|:--|  \n",
    "|**<font face=\"黑体\" color=blue size = 5>cmmsss_array</font>**|包含检验中间结果的多维数组，其中最后一维长度为6，分别记录了样本数、观测平均值、预报平均值、观测方差、预报方差、协方差，它通常是cmmsss函数的计算结果，或者再经tmmsss_merge函数合并的结果|   \n",
    "|<font face=\"黑体\" color=blue size=5>return</font>|整数或数组，它比cmmsss_array少了最后一维。其中每个元素为0到1的实数，最优值为0  | \n",
    "  \n",
    "\n",
    "**调用示例：**"
   ]
  },
  {
   "cell_type": "code",
   "execution_count": 54,
   "metadata": {},
   "outputs": [
    {
     "data": {
      "text/plain": [
       "0.9999385735954114"
      ]
     },
     "execution_count": 54,
     "metadata": {},
     "output_type": "execute_result"
    }
   ],
   "source": [
    "mem.residual_error_rate_tmmsss(tms_array1)"
   ]
  },
  {
   "cell_type": "markdown",
   "metadata": {},
   "source": [
    "**<font face=\"黑体\" color=blue size = 5>残差</font>**     \n",
    "**residual_error_rate_tmmsss(tmmsss_array)**  \n",
    "计算求预测数据和实况数据的线性回归后的残差 =  残差率 * 观测数据的标准差\n",
    "\n",
    "\n",
    "|参数|说明|    \n",
    "|:--|:--|  \n",
    "|**<font face=\"黑体\" color=blue size = 5>cmmsss_array</font>**|包含检验中间结果的多维数组，其中最后一维长度为6，分别记录了样本数、观测平均值、预报平均值、观测方差、预报方差、协方差，它通常是cmmsss函数的计算结果，或者再经tmmsss_merge函数合并的结果|   \n",
    "|<font face=\"黑体\" color=blue size=5>return</font>|整数或数组，它比cmmsss_array少了最后一维。其中每个元素为0到1的实数，最优值为0  | \n",
    "  \n",
    "\n",
    "**调用示例：**"
   ]
  },
  {
   "cell_type": "code",
   "execution_count": 55,
   "metadata": {},
   "outputs": [
    {
     "data": {
      "text/plain": [
       "0.2872689984910157"
      ]
     },
     "execution_count": 55,
     "metadata": {},
     "output_type": "execute_result"
    }
   ],
   "source": [
    "mem.residual_error_tmmsss(tms_array1)"
   ]
  },
  {
   "cell_type": "markdown",
   "metadata": {},
   "source": [
    "# 定量相对误差     \n",
    "**<font face=\"黑体\" color=blue size = 5>mre_toar(toar_array)</font>**  \n",
    "对每一对观测和预报不同时为0的数据计算（预报-观测）/(预报+观测）取绝对值后再做平均\n",
    "  \n",
    "  \n",
    "|参数|说明|    \n",
    "|:--|:--|  \n",
    "|**<font face=\"黑体\" color=blue size = 5>toar_array</font>**|包含检验中间结果的多维数组，其中最后一维长度为2，其内容依次为预报和观测值之和大于0样本数、相对误差绝对值总和，它通常是toar函数的计算结果或结果的累加|   \n",
    "|<font face=\"黑体\" color=blue size=5>return</font>|整数或数组，它比cmmsss_array少了最后一维。其中每个元素为0到1的实数，最优值为0 | \n",
    "  \n",
    "   \n",
    "**调用示例：**"
   ]
  },
  {
   "cell_type": "code",
   "execution_count": 56,
   "metadata": {},
   "outputs": [
    {
     "data": {
      "text/plain": [
       "0.3813525950338694"
      ]
     },
     "execution_count": 56,
     "metadata": {},
     "output_type": "execute_result"
    }
   ],
   "source": [
    "mem.mre_toar(toar_array1)   #单个预报是返回实时"
   ]
  },
  {
   "cell_type": "code",
   "execution_count": 57,
   "metadata": {},
   "outputs": [
    {
     "data": {
      "text/plain": [
       "array([0.3831568 , 0.3821439 , 0.38483622, 0.38368578, 0.3827288 ])"
      ]
     },
     "execution_count": 57,
     "metadata": {},
     "output_type": "execute_result"
    }
   ],
   "source": [
    "mem.mre_toar(toar_array2)    #单个预报是返回实时"
   ]
  },
  {
   "cell_type": "markdown",
   "metadata": {},
   "source": [
    "# 纳什系数     \n",
    "**<font face=\"黑体\" color=blue size = 5>nse_tase_tmmsss(tase_array,tmmsss_array)</font>**  \n",
    "水文中常用的降水检验方法，计算方法为：1 - 均方误差/观测方差  \n",
    "\n",
    "\n",
    "|参数|说明|    \n",
    "|:--|:--|  \n",
    "|**<font face=\"黑体\" color=blue size = 5>tase_array</font>**|包含检验中间结果的多维数组，其中最后一维长度为4，分别记录了样本数，误差和、绝对误差和，误差平方和，它通常是tase函数的计算结果，或者计算结果的累加|  \n",
    "|**<font face=\"黑体\" color=blue size = 5>cmmsss_array</font>**|包含检验中间结果的多维数组，其中最后一维长度为6，分别记录了样本数、观测平均值、预报平均值、观测方差、预报方差、协方差，它通常是cmmsss函数的计算结果，或者再经tmmsss_merge函数合并的结果。除最后一维之外，其余维度需和tase_array保持一致|   \n",
    "|<font face=\"黑体\" color=blue size=5>return</font>|整数或数组，它比cmmsss_array少了最后一维。每个元素是负无穷到1的实数，最优值为1 | \n",
    "  \n",
    "\n",
    "     \n",
    "**调用示例：**"
   ]
  },
  {
   "cell_type": "code",
   "execution_count": 58,
   "metadata": {},
   "outputs": [
    {
     "data": {
      "text/plain": [
       "-0.9957426317872549"
      ]
     },
     "execution_count": 58,
     "metadata": {},
     "output_type": "execute_result"
    }
   ],
   "source": [
    "mem.nse_tase_tmmsss(tase_array1,tms_array1)    #单个预报是返回实时"
   ]
  },
  {
   "cell_type": "code",
   "execution_count": 59,
   "metadata": {},
   "outputs": [
    {
     "data": {
      "text/plain": [
       "array([-1.02961744, -0.95875171, -1.04164169, -1.02488841, -0.99828356])"
      ]
     },
     "execution_count": 59,
     "metadata": {},
     "output_type": "execute_result"
    }
   ],
   "source": [
    "mem.nse_tase_tmmsss(tase_array2,tms_array2)   #多个预报时返回数组，size = 预报成员数"
   ]
  },
  {
   "cell_type": "markdown",
   "metadata": {},
   "source": [
    "以上只是展示了分类检验的维度为1的情况，实际上上述思路可以扩展至任意高维的情况。熟练使用中间统计量计算和合并方法，基于中间统计量整体计算分类问题下的检验指标数组，是提高代码编写效果的关键。上述检验函数的内部也都采用了numpy的整体计算方式实现，在计算效率上进行了最大程度的优化。"
   ]
  },
  {
   "cell_type": "code",
   "execution_count": null,
   "metadata": {},
   "outputs": [],
   "source": []
  }
 ],
 "metadata": {
  "kernelspec": {
   "display_name": "Python 3",
   "language": "python",
   "name": "python3"
  },
  "language_info": {
   "codemirror_mode": {
    "name": "ipython",
    "version": 3
   },
   "file_extension": ".py",
   "mimetype": "text/x-python",
   "name": "python",
   "nbconvert_exporter": "python",
   "pygments_lexer": "ipython3",
   "version": "3.7.6"
  }
 },
 "nbformat": 4,
 "nbformat_minor": 2
}
