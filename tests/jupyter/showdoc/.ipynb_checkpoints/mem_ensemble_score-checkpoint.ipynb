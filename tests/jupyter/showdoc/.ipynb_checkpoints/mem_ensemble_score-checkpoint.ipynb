{
 "cells": [
  {
   "cell_type": "code",
   "execution_count": 1,
   "metadata": {},
   "outputs": [],
   "source": [
    "%matplotlib inline\n",
    "%load_ext autoreload\n",
    "%autoreload 2\n",
    "import meteva.method  as mem\n",
    "import numpy as np"
   ]
  },
  {
   "cell_type": "markdown",
   "metadata": {},
   "source": [
    "***通过随机函数生成测试数据，用于后续检验函数调用示例***"
   ]
  },
  {
   "cell_type": "code",
   "execution_count": 2,
   "metadata": {},
   "outputs": [],
   "source": [
    "sample_count = 1000\n",
    "member_count = 20\n",
    "ob = 0.003 * np.arange(sample_count)                 #生成一批观测样本数据\n",
    "ensemble_mean = ob + np.random.randn(sample_count)   #设观测值随机出现在集合平均的周围，误差标准差为1\n",
    "fo = np.zeros((sample_count,member_count))          \n",
    "for i in range(member_count):\n",
    "    fo[:,i] = ensemble_mean + np.random.randn(sample_count) * 0.5 #集合成员随机出现在集合平均的周围，集合发散标准差为0.5"
   ]
  },
  {
   "cell_type": "code",
   "execution_count": 3,
   "metadata": {},
   "outputs": [],
   "source": [
    "ob = np.random.randn(10,1000)\n",
    "fo1 = np.random.randn(5,10,1000)\n",
    "fo2 = np.random.randn(10,1000)"
   ]
  },
  {
   "cell_type": "markdown",
   "metadata": {},
   "source": [
    "**<font face=\"黑体\" color=blue size = 5>一致性比例 </font>**     \n",
    "**cr(ob,fo,grade_list=[1e-300])**  \n",
    "代表集合成员集中且于观测一致的程度，即所有成员及观测在某个阈值以上的落区的交集与并集的比值   \n",
    "\n",
    "|参数|说明|    \n",
    "|:--|:--|  \n",
    "|**<font face=\"黑体\" color=blue size = 5>ob</font>**|实况数据, 任意维numpy数组|   \n",
    "|**<font face=\"黑体\" color=blue size = 5>fo</font>**| fo比Ob.shape多一维或者保持一致，fo.shape低维与ob.shape保持一致|  \n",
    "|**grade_list**|多个阈值同时检验时的等级参数  |\n",
    "|<font face=\"黑体\" color=blue size=5>return</font>|当len(grade_list) =1时，返回实数，否则返回一维数组， 其元素为0-1的实数，最优值为1|   \n",
    "\n",
    " \n",
    " **调用示例：**  \n",
    " "
   ]
  },
  {
   "cell_type": "code",
   "execution_count": 4,
   "metadata": {},
   "outputs": [
    {
     "data": {
      "text/plain": [
       "0.016243654822335026"
      ]
     },
     "execution_count": 4,
     "metadata": {},
     "output_type": "execute_result"
    }
   ],
   "source": [
    "mem.cr(ob,fo1)  #缺省等级参数，len(grade_list) = 1"
   ]
  },
  {
   "cell_type": "code",
   "execution_count": 5,
   "metadata": {},
   "outputs": [
    {
     "data": {
      "text/plain": [
       "array([0.01624365, 0.00360322, 0.00134892])"
      ]
     },
     "execution_count": 5,
     "metadata": {},
     "output_type": "execute_result"
    }
   ],
   "source": [
    "mem.cr(ob,fo1,grade_list=[0,0.3,0.5])  #指定多个等级"
   ]
  },
  {
   "cell_type": "code",
   "execution_count": null,
   "metadata": {},
   "outputs": [],
   "source": []
  }
 ],
 "metadata": {
  "kernelspec": {
   "display_name": "Python 3",
   "language": "python",
   "name": "python3"
  },
  "language_info": {
   "codemirror_mode": {
    "name": "ipython",
    "version": 3
   },
   "file_extension": ".py",
   "mimetype": "text/x-python",
   "name": "python",
   "nbconvert_exporter": "python",
   "pygments_lexer": "ipython3",
   "version": "3.7.6"
  }
 },
 "nbformat": 4,
 "nbformat_minor": 2
}
